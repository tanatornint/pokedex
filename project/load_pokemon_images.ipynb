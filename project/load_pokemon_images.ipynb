{
 "cells": [
  {
   "cell_type": "code",
   "execution_count": 1,
   "metadata": {},
   "outputs": [],
   "source": [
    "import requests\n",
    "import os\n",
    "from PIL import Image\n",
    "from io import BytesIO\n",
    "\n",
    "def load_img(url: str, img_name: str, local_folder: str = \"../images\"):\n",
    "\n",
    "    # Specify the file name and full path where to save the image\n",
    "    image_name = f\"{img_name}.jpeg\"  # Save everything as .jpeg\n",
    "    image_path = os.path.join(local_folder, image_name)\n",
    "\n",
    "    for _ in range(5):\n",
    "        # Download the image\n",
    "        response = requests.get(url)\n",
    "\n",
    "        # Check if the request was successful\n",
    "        if response.status_code == 200:\n",
    "            # Open the image with PIL and convert it to JPEG\n",
    "            image = Image.open(BytesIO(response.content))\n",
    "\n",
    "            # Convert to RGB to handle formats like PNG that may have alpha channels\n",
    "            if image.mode in (\"RGBA\", \"P\"):  # If the image has an alpha channel\n",
    "                image = image.convert(\"RGB\")\n",
    "\n",
    "            # Save the image as JPEG, preserving original resolution\n",
    "            image.save(image_path, \"JPEG\", quality=95)  # You can adjust the quality (1-100) if needed\n",
    "            break\n",
    "            # print(f\"Image saved as {image_path}\")\n",
    "        else:\n",
    "            print(f\"Failed to download the image: {url}. Status code: {response.status_code}\")\n"
   ]
  },
  {
   "cell_type": "code",
   "execution_count": 12,
   "metadata": {},
   "outputs": [],
   "source": [
    "import requests\n",
    "\n",
    "url = \"https://pokeapi.co/api/v2/pokemon/?limit=151\"\n",
    "\n",
    "payload = {}\n",
    "headers = {}\n",
    "\n",
    "response = requests.request(\"GET\", url, headers=headers, data=payload)\n",
    "for index, pokemon in enumerate(response.json()['results'], start=1):\n",
    "    pokemon_name = pokemon['name']\n",
    "    load_img(f'https://img.pokemondb.net/artwork/{pokemon_name}.jpg', f'{index:04}_{pokemon_name}')"
   ]
  }
 ],
 "metadata": {
  "kernelspec": {
   "display_name": "pokedex",
   "language": "python",
   "name": "python3"
  },
  "language_info": {
   "codemirror_mode": {
    "name": "ipython",
    "version": 3
   },
   "file_extension": ".py",
   "mimetype": "text/x-python",
   "name": "python",
   "nbconvert_exporter": "python",
   "pygments_lexer": "ipython3",
   "version": "3.12.7"
  }
 },
 "nbformat": 4,
 "nbformat_minor": 2
}
